{
 "cells": [
  {
   "cell_type": "markdown",
   "metadata": {},
   "source": [
    "- *Name :* *Smruti Sonekar*\n",
    "- *Branch :* *TY CSE DS*\n",
    "- *UID :* *2021700064*\n",
    "- *EXP NO :* *5*\n",
    "- *Topic :* *Implement k-NN algorithm*"
   ]
  },
  {
   "cell_type": "markdown",
   "metadata": {},
   "source": [
    "- K-Nearest Neighbour is one of the simplest Machine Learning algorithms based on - Supervised Learning technique.\n",
    "- K-NN algorithm assumes the similarity between the new case/data and available cases and - put the new case into the category that is most similar to the available categories.\n",
    "- K-NN algorithm stores all the available data and classifies a new data point based on the - similarity. This means when new data appears then it can be easily classified into a well - suite category by using K- NN algorithm.\n",
    "- K-NN algorithm can be used for Regression as well as for Classification but mostly it is - used for the Classification problems.\n",
    "- K-NN is a non-parametric algorithm, which means it does not make any assumption on - underlying data.\n",
    "- It is also called a lazy learner algorithm because it does not learn from the training - set immediately instead it stores the dataset and at the time of classification, it - performs an action on the dataset.\n",
    "- KNN algorithm at the training phase just stores the dataset and when it gets new data, - then it classifies that data into a category that is much similar to the new data."
   ]
  },
  {
   "cell_type": "code",
   "execution_count": 100,
   "metadata": {},
   "outputs": [],
   "source": [
    "import pandas as pd\n",
    "import matplotlib.pyplot as plt\n",
    "import seaborn as sns\n",
    "import numpy as np"
   ]
  },
  {
   "cell_type": "code",
   "execution_count": 101,
   "metadata": {},
   "outputs": [
    {
     "data": {
      "text/html": [
       "<div>\n",
       "<style scoped>\n",
       "    .dataframe tbody tr th:only-of-type {\n",
       "        vertical-align: middle;\n",
       "    }\n",
       "\n",
       "    .dataframe tbody tr th {\n",
       "        vertical-align: top;\n",
       "    }\n",
       "\n",
       "    .dataframe thead th {\n",
       "        text-align: right;\n",
       "    }\n",
       "</style>\n",
       "<table border=\"1\" class=\"dataframe\">\n",
       "  <thead>\n",
       "    <tr style=\"text-align: right;\">\n",
       "      <th></th>\n",
       "      <th>index</th>\n",
       "      <th>TITLE</th>\n",
       "      <th>RELEASE_YEAR</th>\n",
       "      <th>SCORE</th>\n",
       "      <th>NUMBER_OF_VOTES</th>\n",
       "      <th>DURATION</th>\n",
       "      <th>NUMBER_OF_SEASONS</th>\n",
       "      <th>MAIN_GENRE</th>\n",
       "      <th>MAIN_PRODUCTION</th>\n",
       "    </tr>\n",
       "  </thead>\n",
       "  <tbody>\n",
       "    <tr>\n",
       "      <th>197</th>\n",
       "      <td>197</td>\n",
       "      <td>Alice in Borderland</td>\n",
       "      <td>2020</td>\n",
       "      <td>7.6</td>\n",
       "      <td>47651</td>\n",
       "      <td>47</td>\n",
       "      <td>2</td>\n",
       "      <td>action</td>\n",
       "      <td>JP</td>\n",
       "    </tr>\n",
       "    <tr>\n",
       "      <th>219</th>\n",
       "      <td>219</td>\n",
       "      <td>Love 101</td>\n",
       "      <td>2020</td>\n",
       "      <td>7.5</td>\n",
       "      <td>13797</td>\n",
       "      <td>46</td>\n",
       "      <td>2</td>\n",
       "      <td>comedy</td>\n",
       "      <td>TR</td>\n",
       "    </tr>\n",
       "    <tr>\n",
       "      <th>64</th>\n",
       "      <td>64</td>\n",
       "      <td>The Legend of Korra</td>\n",
       "      <td>2012</td>\n",
       "      <td>8.4</td>\n",
       "      <td>117464</td>\n",
       "      <td>23</td>\n",
       "      <td>4</td>\n",
       "      <td>action</td>\n",
       "      <td>US</td>\n",
       "    </tr>\n",
       "    <tr>\n",
       "      <th>25</th>\n",
       "      <td>25</td>\n",
       "      <td>One-Punch Man</td>\n",
       "      <td>2015</td>\n",
       "      <td>8.7</td>\n",
       "      <td>148386</td>\n",
       "      <td>24</td>\n",
       "      <td>2</td>\n",
       "      <td>action</td>\n",
       "      <td>JP</td>\n",
       "    </tr>\n",
       "    <tr>\n",
       "      <th>10</th>\n",
       "      <td>10</td>\n",
       "      <td>Cowboy Bebop</td>\n",
       "      <td>1998</td>\n",
       "      <td>8.9</td>\n",
       "      <td>112887</td>\n",
       "      <td>25</td>\n",
       "      <td>1</td>\n",
       "      <td>western</td>\n",
       "      <td>JP</td>\n",
       "    </tr>\n",
       "  </tbody>\n",
       "</table>\n",
       "</div>"
      ],
      "text/plain": [
       "     index                TITLE  RELEASE_YEAR  SCORE  NUMBER_OF_VOTES  \\\n",
       "197    197  Alice in Borderland          2020    7.6            47651   \n",
       "219    219             Love 101          2020    7.5            13797   \n",
       "64      64  The Legend of Korra          2012    8.4           117464   \n",
       "25      25        One-Punch Man          2015    8.7           148386   \n",
       "10      10         Cowboy Bebop          1998    8.9           112887   \n",
       "\n",
       "     DURATION  NUMBER_OF_SEASONS MAIN_GENRE MAIN_PRODUCTION  \n",
       "197        47                  2     action              JP  \n",
       "219        46                  2     comedy              TR  \n",
       "64         23                  4     action              US  \n",
       "25         24                  2     action              JP  \n",
       "10         25                  1    western              JP  "
      ]
     },
     "execution_count": 101,
     "metadata": {},
     "output_type": "execute_result"
    }
   ],
   "source": [
    "df1=pd.DataFrame(pd.read_csv(\"./files/Best Shows Netflix.csv\"))\n",
    "df1.sample(5)"
   ]
  },
  {
   "cell_type": "markdown",
   "metadata": {},
   "source": [
    "KNN is one of the most basic yet essential classification algorithms in machine learning. It belongs to the supervised learning domain and finds intense application in pattern recognition, data mining, and intrusion detection."
   ]
  },
  {
   "cell_type": "code",
   "execution_count": 102,
   "metadata": {},
   "outputs": [
    {
     "data": {
      "text/plain": [
       "index                  int64\n",
       "TITLE                 object\n",
       "RELEASE_YEAR           int64\n",
       "SCORE                float64\n",
       "NUMBER_OF_VOTES        int64\n",
       "DURATION               int64\n",
       "NUMBER_OF_SEASONS      int64\n",
       "MAIN_GENRE            object\n",
       "MAIN_PRODUCTION       object\n",
       "dtype: object"
      ]
     },
     "execution_count": 102,
     "metadata": {},
     "output_type": "execute_result"
    }
   ],
   "source": [
    "df1.dtypes"
   ]
  },
  {
   "cell_type": "code",
   "execution_count": 103,
   "metadata": {},
   "outputs": [
    {
     "data": {
      "text/plain": [
       "index                0\n",
       "TITLE                0\n",
       "RELEASE_YEAR         0\n",
       "SCORE                0\n",
       "NUMBER_OF_VOTES      0\n",
       "DURATION             0\n",
       "NUMBER_OF_SEASONS    0\n",
       "MAIN_GENRE           0\n",
       "MAIN_PRODUCTION      0\n",
       "dtype: int64"
      ]
     },
     "execution_count": 103,
     "metadata": {},
     "output_type": "execute_result"
    }
   ],
   "source": [
    "df1.isna().sum()"
   ]
  },
  {
   "cell_type": "code",
   "execution_count": 104,
   "metadata": {},
   "outputs": [
    {
     "data": {
      "text/html": [
       "<div>\n",
       "<style scoped>\n",
       "    .dataframe tbody tr th:only-of-type {\n",
       "        vertical-align: middle;\n",
       "    }\n",
       "\n",
       "    .dataframe tbody tr th {\n",
       "        vertical-align: top;\n",
       "    }\n",
       "\n",
       "    .dataframe thead th {\n",
       "        text-align: right;\n",
       "    }\n",
       "</style>\n",
       "<table border=\"1\" class=\"dataframe\">\n",
       "  <thead>\n",
       "    <tr style=\"text-align: right;\">\n",
       "      <th></th>\n",
       "      <th>index</th>\n",
       "      <th>TITLE</th>\n",
       "      <th>RELEASE_YEAR</th>\n",
       "      <th>SCORE</th>\n",
       "      <th>NUMBER_OF_VOTES</th>\n",
       "      <th>DURATION</th>\n",
       "      <th>NUMBER_OF_SEASONS</th>\n",
       "      <th>MAIN_GENRE</th>\n",
       "      <th>MAIN_PRODUCTION</th>\n",
       "    </tr>\n",
       "  </thead>\n",
       "  <tbody>\n",
       "    <tr>\n",
       "      <th>0</th>\n",
       "      <td>0</td>\n",
       "      <td>Breaking Bad</td>\n",
       "      <td>2008</td>\n",
       "      <td>9.5</td>\n",
       "      <td>1727694</td>\n",
       "      <td>48</td>\n",
       "      <td>5</td>\n",
       "      <td>drama</td>\n",
       "      <td>US</td>\n",
       "    </tr>\n",
       "    <tr>\n",
       "      <th>1</th>\n",
       "      <td>1</td>\n",
       "      <td>Avatar: The Last Airbender</td>\n",
       "      <td>2005</td>\n",
       "      <td>9.3</td>\n",
       "      <td>297336</td>\n",
       "      <td>24</td>\n",
       "      <td>3</td>\n",
       "      <td>scifi</td>\n",
       "      <td>US</td>\n",
       "    </tr>\n",
       "    <tr>\n",
       "      <th>2</th>\n",
       "      <td>2</td>\n",
       "      <td>Our Planet</td>\n",
       "      <td>2019</td>\n",
       "      <td>9.3</td>\n",
       "      <td>41386</td>\n",
       "      <td>50</td>\n",
       "      <td>1</td>\n",
       "      <td>documentary</td>\n",
       "      <td>GB</td>\n",
       "    </tr>\n",
       "    <tr>\n",
       "      <th>3</th>\n",
       "      <td>3</td>\n",
       "      <td>Kota Factory</td>\n",
       "      <td>2019</td>\n",
       "      <td>9.3</td>\n",
       "      <td>66985</td>\n",
       "      <td>42</td>\n",
       "      <td>2</td>\n",
       "      <td>drama</td>\n",
       "      <td>IN</td>\n",
       "    </tr>\n",
       "    <tr>\n",
       "      <th>4</th>\n",
       "      <td>4</td>\n",
       "      <td>The Last Dance</td>\n",
       "      <td>2020</td>\n",
       "      <td>9.1</td>\n",
       "      <td>108321</td>\n",
       "      <td>50</td>\n",
       "      <td>1</td>\n",
       "      <td>documentary</td>\n",
       "      <td>US</td>\n",
       "    </tr>\n",
       "    <tr>\n",
       "      <th>...</th>\n",
       "      <td>...</td>\n",
       "      <td>...</td>\n",
       "      <td>...</td>\n",
       "      <td>...</td>\n",
       "      <td>...</td>\n",
       "      <td>...</td>\n",
       "      <td>...</td>\n",
       "      <td>...</td>\n",
       "      <td>...</td>\n",
       "    </tr>\n",
       "    <tr>\n",
       "      <th>241</th>\n",
       "      <td>241</td>\n",
       "      <td>Evil Genius</td>\n",
       "      <td>2018</td>\n",
       "      <td>7.5</td>\n",
       "      <td>27516</td>\n",
       "      <td>48</td>\n",
       "      <td>1</td>\n",
       "      <td>crime</td>\n",
       "      <td>US</td>\n",
       "    </tr>\n",
       "    <tr>\n",
       "      <th>242</th>\n",
       "      <td>242</td>\n",
       "      <td>13 Reasons Why</td>\n",
       "      <td>2017</td>\n",
       "      <td>7.5</td>\n",
       "      <td>282373</td>\n",
       "      <td>58</td>\n",
       "      <td>4</td>\n",
       "      <td>drama</td>\n",
       "      <td>US</td>\n",
       "    </tr>\n",
       "    <tr>\n",
       "      <th>243</th>\n",
       "      <td>243</td>\n",
       "      <td>Lupin</td>\n",
       "      <td>2021</td>\n",
       "      <td>7.5</td>\n",
       "      <td>100575</td>\n",
       "      <td>46</td>\n",
       "      <td>3</td>\n",
       "      <td>crime</td>\n",
       "      <td>FR</td>\n",
       "    </tr>\n",
       "    <tr>\n",
       "      <th>244</th>\n",
       "      <td>244</td>\n",
       "      <td>All of Us Are Dead</td>\n",
       "      <td>2022</td>\n",
       "      <td>7.5</td>\n",
       "      <td>41393</td>\n",
       "      <td>61</td>\n",
       "      <td>1</td>\n",
       "      <td>action</td>\n",
       "      <td>KR</td>\n",
       "    </tr>\n",
       "    <tr>\n",
       "      <th>245</th>\n",
       "      <td>245</td>\n",
       "      <td>I Am Not Okay with This</td>\n",
       "      <td>2020</td>\n",
       "      <td>7.5</td>\n",
       "      <td>56459</td>\n",
       "      <td>21</td>\n",
       "      <td>1</td>\n",
       "      <td>comedy</td>\n",
       "      <td>US</td>\n",
       "    </tr>\n",
       "  </tbody>\n",
       "</table>\n",
       "<p>246 rows × 9 columns</p>\n",
       "</div>"
      ],
      "text/plain": [
       "     index                       TITLE  RELEASE_YEAR  SCORE  NUMBER_OF_VOTES  \\\n",
       "0        0                Breaking Bad          2008    9.5          1727694   \n",
       "1        1  Avatar: The Last Airbender          2005    9.3           297336   \n",
       "2        2                  Our Planet          2019    9.3            41386   \n",
       "3        3                Kota Factory          2019    9.3            66985   \n",
       "4        4              The Last Dance          2020    9.1           108321   \n",
       "..     ...                         ...           ...    ...              ...   \n",
       "241    241                 Evil Genius          2018    7.5            27516   \n",
       "242    242              13 Reasons Why          2017    7.5           282373   \n",
       "243    243                       Lupin          2021    7.5           100575   \n",
       "244    244          All of Us Are Dead          2022    7.5            41393   \n",
       "245    245     I Am Not Okay with This          2020    7.5            56459   \n",
       "\n",
       "     DURATION  NUMBER_OF_SEASONS   MAIN_GENRE MAIN_PRODUCTION  \n",
       "0          48                  5        drama              US  \n",
       "1          24                  3        scifi              US  \n",
       "2          50                  1  documentary              GB  \n",
       "3          42                  2        drama              IN  \n",
       "4          50                  1  documentary              US  \n",
       "..        ...                ...          ...             ...  \n",
       "241        48                  1        crime              US  \n",
       "242        58                  4        drama              US  \n",
       "243        46                  3        crime              FR  \n",
       "244        61                  1       action              KR  \n",
       "245        21                  1       comedy              US  \n",
       "\n",
       "[246 rows x 9 columns]"
      ]
     },
     "execution_count": 104,
     "metadata": {},
     "output_type": "execute_result"
    }
   ],
   "source": [
    "df1.drop_duplicates()"
   ]
  },
  {
   "cell_type": "code",
   "execution_count": 105,
   "metadata": {},
   "outputs": [],
   "source": [
    "from sklearn.model_selection import train_test_split\n",
    "from sklearn.neighbors import KNeighborsClassifier\n",
    "from sklearn.metrics import accuracy_score"
   ]
  },
  {
   "cell_type": "markdown",
   "metadata": {},
   "source": [
    "(K-NN) algorithm is a versatile and widely used machine learning algorithm that is primarily used for its simplicity and ease of implementation. It does not require any assumptions about the underlying data distribution. It can also handle both numerical and categorical data, making it a flexible choice for various types of datasets in classification and regression tasks. It is a non-parametric method that makes predictions based on the similarity of data points in a given dataset. K-NN is less sensitive to outliers compared to other algorithms.\n",
    "\n",
    "The K-NN algorithm works by finding the K nearest neighbors to a given data point based on a distance metric, such as Euclidean distance. The class or value of the data point is then determined by the majority vote or average of the K neighbors. This approach allows the algorithm to adapt to different patterns and make predictions based on the local structure of the data."
   ]
  },
  {
   "cell_type": "code",
   "execution_count": 106,
   "metadata": {},
   "outputs": [
    {
     "data": {
      "text/html": [
       "<div>\n",
       "<style scoped>\n",
       "    .dataframe tbody tr th:only-of-type {\n",
       "        vertical-align: middle;\n",
       "    }\n",
       "\n",
       "    .dataframe tbody tr th {\n",
       "        vertical-align: top;\n",
       "    }\n",
       "\n",
       "    .dataframe thead th {\n",
       "        text-align: right;\n",
       "    }\n",
       "</style>\n",
       "<table border=\"1\" class=\"dataframe\">\n",
       "  <thead>\n",
       "    <tr style=\"text-align: right;\">\n",
       "      <th></th>\n",
       "      <th>index</th>\n",
       "      <th>TITLE</th>\n",
       "      <th>RELEASE_YEAR</th>\n",
       "      <th>SCORE</th>\n",
       "      <th>NUMBER_OF_VOTES</th>\n",
       "      <th>DURATION</th>\n",
       "      <th>NUMBER_OF_SEASONS</th>\n",
       "      <th>MAIN_GENRE</th>\n",
       "      <th>MAIN_PRODUCTION</th>\n",
       "    </tr>\n",
       "  </thead>\n",
       "  <tbody>\n",
       "    <tr>\n",
       "      <th>128</th>\n",
       "      <td>128</td>\n",
       "      <td>Comedians in Cars Getting Coffee</td>\n",
       "      <td>2012</td>\n",
       "      <td>8.0</td>\n",
       "      <td>12363</td>\n",
       "      <td>20</td>\n",
       "      <td>11</td>\n",
       "      <td>comedy</td>\n",
       "      <td>US</td>\n",
       "    </tr>\n",
       "    <tr>\n",
       "      <th>170</th>\n",
       "      <td>170</td>\n",
       "      <td>Crazy Ex-Girlfriend</td>\n",
       "      <td>2015</td>\n",
       "      <td>7.8</td>\n",
       "      <td>19738</td>\n",
       "      <td>42</td>\n",
       "      <td>4</td>\n",
       "      <td>comedy</td>\n",
       "      <td>US</td>\n",
       "    </tr>\n",
       "    <tr>\n",
       "      <th>174</th>\n",
       "      <td>174</td>\n",
       "      <td>Undercover</td>\n",
       "      <td>2019</td>\n",
       "      <td>7.8</td>\n",
       "      <td>16773</td>\n",
       "      <td>49</td>\n",
       "      <td>3</td>\n",
       "      <td>drama</td>\n",
       "      <td>BE</td>\n",
       "    </tr>\n",
       "  </tbody>\n",
       "</table>\n",
       "</div>"
      ],
      "text/plain": [
       "     index                             TITLE  RELEASE_YEAR  SCORE  \\\n",
       "128    128  Comedians in Cars Getting Coffee          2012    8.0   \n",
       "170    170               Crazy Ex-Girlfriend          2015    7.8   \n",
       "174    174                        Undercover          2019    7.8   \n",
       "\n",
       "     NUMBER_OF_VOTES  DURATION  NUMBER_OF_SEASONS MAIN_GENRE MAIN_PRODUCTION  \n",
       "128            12363        20                 11     comedy              US  \n",
       "170            19738        42                  4     comedy              US  \n",
       "174            16773        49                  3      drama              BE  "
      ]
     },
     "execution_count": 106,
     "metadata": {},
     "output_type": "execute_result"
    }
   ],
   "source": [
    "df1.sample(3)"
   ]
  },
  {
   "cell_type": "code",
   "execution_count": 107,
   "metadata": {},
   "outputs": [],
   "source": [
    "df1.drop(columns='index',inplace=True)"
   ]
  },
  {
   "cell_type": "code",
   "execution_count": 108,
   "metadata": {},
   "outputs": [
    {
     "data": {
      "text/html": [
       "<div>\n",
       "<style scoped>\n",
       "    .dataframe tbody tr th:only-of-type {\n",
       "        vertical-align: middle;\n",
       "    }\n",
       "\n",
       "    .dataframe tbody tr th {\n",
       "        vertical-align: top;\n",
       "    }\n",
       "\n",
       "    .dataframe thead th {\n",
       "        text-align: right;\n",
       "    }\n",
       "</style>\n",
       "<table border=\"1\" class=\"dataframe\">\n",
       "  <thead>\n",
       "    <tr style=\"text-align: right;\">\n",
       "      <th></th>\n",
       "      <th>TITLE</th>\n",
       "      <th>RELEASE_YEAR</th>\n",
       "      <th>SCORE</th>\n",
       "      <th>NUMBER_OF_VOTES</th>\n",
       "      <th>DURATION</th>\n",
       "      <th>NUMBER_OF_SEASONS</th>\n",
       "      <th>MAIN_GENRE</th>\n",
       "      <th>MAIN_PRODUCTION</th>\n",
       "    </tr>\n",
       "  </thead>\n",
       "  <tbody>\n",
       "    <tr>\n",
       "      <th>0</th>\n",
       "      <td>Breaking Bad</td>\n",
       "      <td>2008</td>\n",
       "      <td>9.5</td>\n",
       "      <td>1727694</td>\n",
       "      <td>48</td>\n",
       "      <td>5</td>\n",
       "      <td>drama</td>\n",
       "      <td>US</td>\n",
       "    </tr>\n",
       "    <tr>\n",
       "      <th>2</th>\n",
       "      <td>Our Planet</td>\n",
       "      <td>2019</td>\n",
       "      <td>9.3</td>\n",
       "      <td>41386</td>\n",
       "      <td>50</td>\n",
       "      <td>1</td>\n",
       "      <td>documentary</td>\n",
       "      <td>GB</td>\n",
       "    </tr>\n",
       "    <tr>\n",
       "      <th>3</th>\n",
       "      <td>Kota Factory</td>\n",
       "      <td>2019</td>\n",
       "      <td>9.3</td>\n",
       "      <td>66985</td>\n",
       "      <td>42</td>\n",
       "      <td>2</td>\n",
       "      <td>drama</td>\n",
       "      <td>IN</td>\n",
       "    </tr>\n",
       "    <tr>\n",
       "      <th>1</th>\n",
       "      <td>Avatar: The Last Airbender</td>\n",
       "      <td>2005</td>\n",
       "      <td>9.3</td>\n",
       "      <td>297336</td>\n",
       "      <td>24</td>\n",
       "      <td>3</td>\n",
       "      <td>scifi</td>\n",
       "      <td>US</td>\n",
       "    </tr>\n",
       "    <tr>\n",
       "      <th>4</th>\n",
       "      <td>The Last Dance</td>\n",
       "      <td>2020</td>\n",
       "      <td>9.1</td>\n",
       "      <td>108321</td>\n",
       "      <td>50</td>\n",
       "      <td>1</td>\n",
       "      <td>documentary</td>\n",
       "      <td>US</td>\n",
       "    </tr>\n",
       "    <tr>\n",
       "      <th>...</th>\n",
       "      <td>...</td>\n",
       "      <td>...</td>\n",
       "      <td>...</td>\n",
       "      <td>...</td>\n",
       "      <td>...</td>\n",
       "      <td>...</td>\n",
       "      <td>...</td>\n",
       "      <td>...</td>\n",
       "    </tr>\n",
       "    <tr>\n",
       "      <th>222</th>\n",
       "      <td>Blue Exorcist</td>\n",
       "      <td>2011</td>\n",
       "      <td>7.5</td>\n",
       "      <td>12741</td>\n",
       "      <td>24</td>\n",
       "      <td>2</td>\n",
       "      <td>scifi</td>\n",
       "      <td>JP</td>\n",
       "    </tr>\n",
       "    <tr>\n",
       "      <th>221</th>\n",
       "      <td>Reign</td>\n",
       "      <td>2013</td>\n",
       "      <td>7.5</td>\n",
       "      <td>47751</td>\n",
       "      <td>42</td>\n",
       "      <td>4</td>\n",
       "      <td>drama</td>\n",
       "      <td>US</td>\n",
       "    </tr>\n",
       "    <tr>\n",
       "      <th>220</th>\n",
       "      <td>Shooter</td>\n",
       "      <td>2016</td>\n",
       "      <td>7.5</td>\n",
       "      <td>35547</td>\n",
       "      <td>41</td>\n",
       "      <td>3</td>\n",
       "      <td>war</td>\n",
       "      <td>US</td>\n",
       "    </tr>\n",
       "    <tr>\n",
       "      <th>219</th>\n",
       "      <td>Love 101</td>\n",
       "      <td>2020</td>\n",
       "      <td>7.5</td>\n",
       "      <td>13797</td>\n",
       "      <td>46</td>\n",
       "      <td>2</td>\n",
       "      <td>comedy</td>\n",
       "      <td>TR</td>\n",
       "    </tr>\n",
       "    <tr>\n",
       "      <th>245</th>\n",
       "      <td>I Am Not Okay with This</td>\n",
       "      <td>2020</td>\n",
       "      <td>7.5</td>\n",
       "      <td>56459</td>\n",
       "      <td>21</td>\n",
       "      <td>1</td>\n",
       "      <td>comedy</td>\n",
       "      <td>US</td>\n",
       "    </tr>\n",
       "  </tbody>\n",
       "</table>\n",
       "<p>246 rows × 8 columns</p>\n",
       "</div>"
      ],
      "text/plain": [
       "                          TITLE  RELEASE_YEAR  SCORE  NUMBER_OF_VOTES  \\\n",
       "0                  Breaking Bad          2008    9.5          1727694   \n",
       "2                    Our Planet          2019    9.3            41386   \n",
       "3                  Kota Factory          2019    9.3            66985   \n",
       "1    Avatar: The Last Airbender          2005    9.3           297336   \n",
       "4                The Last Dance          2020    9.1           108321   \n",
       "..                          ...           ...    ...              ...   \n",
       "222               Blue Exorcist          2011    7.5            12741   \n",
       "221                       Reign          2013    7.5            47751   \n",
       "220                     Shooter          2016    7.5            35547   \n",
       "219                    Love 101          2020    7.5            13797   \n",
       "245     I Am Not Okay with This          2020    7.5            56459   \n",
       "\n",
       "     DURATION  NUMBER_OF_SEASONS   MAIN_GENRE MAIN_PRODUCTION  \n",
       "0          48                  5        drama              US  \n",
       "2          50                  1  documentary              GB  \n",
       "3          42                  2        drama              IN  \n",
       "1          24                  3        scifi              US  \n",
       "4          50                  1  documentary              US  \n",
       "..        ...                ...          ...             ...  \n",
       "222        24                  2        scifi              JP  \n",
       "221        42                  4        drama              US  \n",
       "220        41                  3          war              US  \n",
       "219        46                  2       comedy              TR  \n",
       "245        21                  1       comedy              US  \n",
       "\n",
       "[246 rows x 8 columns]"
      ]
     },
     "execution_count": 108,
     "metadata": {},
     "output_type": "execute_result"
    }
   ],
   "source": [
    "df1.sort_values(by='SCORE',ascending=False)"
   ]
  },
  {
   "cell_type": "code",
   "execution_count": 109,
   "metadata": {},
   "outputs": [
    {
     "data": {
      "text/plain": [
       "<Axes: xlabel='MAIN_GENRE'>"
      ]
     },
     "execution_count": 109,
     "metadata": {},
     "output_type": "execute_result"
    },
    {
     "data": {
      "image/png": "[encoded data removed]",
      "text/plain": [
       "<Figure size 640x480 with 1 Axes>"
      ]
     },
     "metadata": {},
     "output_type": "display_data"
    }
   ],
   "source": [
    "df1['MAIN_GENRE'].value_counts().plot(kind='bar')"
   ]
  },
  {
   "cell_type": "code",
   "execution_count": 110,
   "metadata": {},
   "outputs": [
    {
     "data": {
      "image/png": "[encoded data removed]",
      "text/plain": [
       "<Figure size 1000x600 with 1 Axes>"
      ]
     },
     "metadata": {},
     "output_type": "display_data"
    }
   ],
   "source": [
    "plt.figure(figsize=(10,6))\n",
    "sns.lineplot(data=df1,x='MAIN_GENRE',y='SCORE')\n",
    "plt.xlabel('Genres of the shows')\n",
    "plt.ylabel('Score or Rating of the shows')\n",
    "plt.title('Relationship between movie genre and rating')\n",
    "plt.tight_layout()\n",
    "plt.show()"
   ]
  },
  {
   "cell_type": "code",
   "execution_count": 111,
   "metadata": {},
   "outputs": [],
   "source": [
    "X=df1[['SCORE','DURATION','NUMBER_OF_SEASONS']]\n",
    "y=df1['MAIN_GENRE']"
   ]
  },
  {
   "cell_type": "code",
   "execution_count": 112,
   "metadata": {},
   "outputs": [],
   "source": [
    "\n",
    "X_train, X_test, y_train, y_test = train_test_split(X, y, test_size=0.3, random_state=42)\n"
   ]
  },
  {
   "cell_type": "code",
   "execution_count": 113,
   "metadata": {},
   "outputs": [
    {
     "data": {
      "text/plain": [
       "((172, 3), (74, 3))"
      ]
     },
     "execution_count": 113,
     "metadata": {},
     "output_type": "execute_result"
    }
   ],
   "source": [
    "X_train.shape,X_test.shape"
   ]
  },
  {
   "cell_type": "code",
   "execution_count": 114,
   "metadata": {},
   "outputs": [
    {
     "data": {
      "text/plain": [
       "((172,), (74,))"
      ]
     },
     "execution_count": 114,
     "metadata": {},
     "output_type": "execute_result"
    }
   ],
   "source": [
    "y_train.shape,y_test.shape\n"
   ]
  },
  {
   "cell_type": "code",
   "execution_count": 115,
   "metadata": {},
   "outputs": [
    {
     "data": {
      "text/html": [
       "<div>\n",
       "<style scoped>\n",
       "    .dataframe tbody tr th:only-of-type {\n",
       "        vertical-align: middle;\n",
       "    }\n",
       "\n",
       "    .dataframe tbody tr th {\n",
       "        vertical-align: top;\n",
       "    }\n",
       "\n",
       "    .dataframe thead th {\n",
       "        text-align: right;\n",
       "    }\n",
       "</style>\n",
       "<table border=\"1\" class=\"dataframe\">\n",
       "  <thead>\n",
       "    <tr style=\"text-align: right;\">\n",
       "      <th></th>\n",
       "      <th>SCORE</th>\n",
       "      <th>DURATION</th>\n",
       "      <th>NUMBER_OF_SEASONS</th>\n",
       "    </tr>\n",
       "  </thead>\n",
       "  <tbody>\n",
       "    <tr>\n",
       "      <th>29</th>\n",
       "      <td>8.7</td>\n",
       "      <td>58</td>\n",
       "      <td>6</td>\n",
       "    </tr>\n",
       "    <tr>\n",
       "      <th>124</th>\n",
       "      <td>8.0</td>\n",
       "      <td>31</td>\n",
       "      <td>2</td>\n",
       "    </tr>\n",
       "    <tr>\n",
       "      <th>115</th>\n",
       "      <td>8.1</td>\n",
       "      <td>59</td>\n",
       "      <td>7</td>\n",
       "    </tr>\n",
       "    <tr>\n",
       "      <th>84</th>\n",
       "      <td>8.3</td>\n",
       "      <td>25</td>\n",
       "      <td>7</td>\n",
       "    </tr>\n",
       "    <tr>\n",
       "      <th>5</th>\n",
       "      <td>9.1</td>\n",
       "      <td>41</td>\n",
       "      <td>1</td>\n",
       "    </tr>\n",
       "    <tr>\n",
       "      <th>...</th>\n",
       "      <td>...</td>\n",
       "      <td>...</td>\n",
       "      <td>...</td>\n",
       "    </tr>\n",
       "    <tr>\n",
       "      <th>106</th>\n",
       "      <td>8.1</td>\n",
       "      <td>26</td>\n",
       "      <td>3</td>\n",
       "    </tr>\n",
       "    <tr>\n",
       "      <th>14</th>\n",
       "      <td>8.8</td>\n",
       "      <td>26</td>\n",
       "      <td>6</td>\n",
       "    </tr>\n",
       "    <tr>\n",
       "      <th>92</th>\n",
       "      <td>8.2</td>\n",
       "      <td>29</td>\n",
       "      <td>4</td>\n",
       "    </tr>\n",
       "    <tr>\n",
       "      <th>179</th>\n",
       "      <td>7.7</td>\n",
       "      <td>26</td>\n",
       "      <td>1</td>\n",
       "    </tr>\n",
       "    <tr>\n",
       "      <th>102</th>\n",
       "      <td>8.2</td>\n",
       "      <td>46</td>\n",
       "      <td>11</td>\n",
       "    </tr>\n",
       "  </tbody>\n",
       "</table>\n",
       "<p>172 rows × 3 columns</p>\n",
       "</div>"
      ],
      "text/plain": [
       "     SCORE  DURATION  NUMBER_OF_SEASONS\n",
       "29     8.7        58                  6\n",
       "124    8.0        31                  2\n",
       "115    8.1        59                  7\n",
       "84     8.3        25                  7\n",
       "5      9.1        41                  1\n",
       "..     ...       ...                ...\n",
       "106    8.1        26                  3\n",
       "14     8.8        26                  6\n",
       "92     8.2        29                  4\n",
       "179    7.7        26                  1\n",
       "102    8.2        46                 11\n",
       "\n",
       "[172 rows x 3 columns]"
      ]
     },
     "execution_count": 115,
     "metadata": {},
     "output_type": "execute_result"
    }
   ],
   "source": [
    "X_train"
   ]
  },
  {
   "cell_type": "code",
   "execution_count": 116,
   "metadata": {},
   "outputs": [],
   "source": [
    "k = 3# Number of neighbors to consider\n",
    "knn = KNeighborsClassifier(n_neighbors=k)\n"
   ]
  },
  {
   "cell_type": "code",
   "execution_count": 117,
   "metadata": {},
   "outputs": [
    {
     "data": {
      "text/html": [
       "<style>#sk-container-id-5 {color: black;}#sk-container-id-5 pre{padding: 0;}#sk-container-id-5 div.sk-toggleable {background-color: white;}#sk-container-id-5 label.sk-toggleable__label {cursor: pointer;display: block;width: 100%;margin-bottom: 0;padding: 0.3em;box-sizing: border-box;text-align: center;}#sk-container-id-5 label.sk-toggleable__label-arrow:before {content: \"▸\";float: left;margin-right: 0.25em;color: #696969;}#sk-container-id-5 label.sk-toggleable__label-arrow:hover:before {color: black;}#sk-container-id-5 div.sk-estimator:hover label.sk-toggleable__label-arrow:before {color: black;}#sk-container-id-5 div.sk-toggleable__content {max-height: 0;max-width: 0;overflow: hidden;text-align: left;background-color: #f0f8ff;}#sk-container-id-5 div.sk-toggleable__content pre {margin: 0.2em;color: black;border-radius: 0.25em;background-color: #f0f8ff;}#sk-container-id-5 input.sk-toggleable__control:checked~div.sk-toggleable__content {max-height: 200px;max-width: 100%;overflow: auto;}#sk-container-id-5 input.sk-toggleable__control:checked~label.sk-toggleable__label-arrow:before {content: \"▾\";}#sk-container-id-5 div.sk-estimator input.sk-toggleable__control:checked~label.sk-toggleable__label {background-color: #d4ebff;}#sk-container-id-5 div.sk-label input.sk-toggleable__control:checked~label.sk-toggleable__label {background-color: #d4ebff;}#sk-container-id-5 input.sk-hidden--visually {border: 0;clip: rect(1px 1px 1px 1px);clip: rect(1px, 1px, 1px, 1px);height: 1px;margin: -1px;overflow: hidden;padding: 0;position: absolute;width: 1px;}#sk-container-id-5 div.sk-estimator {font-family: monospace;background-color: #f0f8ff;border: 1px dotted black;border-radius: 0.25em;box-sizing: border-box;margin-bottom: 0.5em;}#sk-container-id-5 div.sk-estimator:hover {background-color: #d4ebff;}#sk-container-id-5 div.sk-parallel-item::after {content: \"\";width: 100%;border-bottom: 1px solid gray;flex-grow: 1;}#sk-container-id-5 div.sk-label:hover label.sk-toggleable__label {background-color: #d4ebff;}#sk-container-id-5 div.sk-serial::before {content: \"\";position: absolute;border-left: 1px solid gray;box-sizing: border-box;top: 0;bottom: 0;left: 50%;z-index: 0;}#sk-container-id-5 div.sk-serial {display: flex;flex-direction: column;align-items: center;background-color: white;padding-right: 0.2em;padding-left: 0.2em;position: relative;}#sk-container-id-5 div.sk-item {position: relative;z-index: 1;}#sk-container-id-5 div.sk-parallel {display: flex;align-items: stretch;justify-content: center;background-color: white;position: relative;}#sk-container-id-5 div.sk-item::before, #sk-container-id-5 div.sk-parallel-item::before {content: \"\";position: absolute;border-left: 1px solid gray;box-sizing: border-box;top: 0;bottom: 0;left: 50%;z-index: -1;}#sk-container-id-5 div.sk-parallel-item {display: flex;flex-direction: column;z-index: 1;position: relative;background-color: white;}#sk-container-id-5 div.sk-parallel-item:first-child::after {align-self: flex-end;width: 50%;}#sk-container-id-5 div.sk-parallel-item:last-child::after {align-self: flex-start;width: 50%;}#sk-container-id-5 div.sk-parallel-item:only-child::after {width: 0;}#sk-container-id-5 div.sk-dashed-wrapped {border: 1px dashed gray;margin: 0 0.4em 0.5em 0.4em;box-sizing: border-box;padding-bottom: 0.4em;background-color: white;}#sk-container-id-5 div.sk-label label {font-family: monospace;font-weight: bold;display: inline-block;line-height: 1.2em;}#sk-container-id-5 div.sk-label-container {text-align: center;}#sk-container-id-5 div.sk-container {/* jupyter's `normalize.less` sets `[hidden] { display: none; }` but bootstrap.min.css set `[hidden] { display: none !important; }` so we also need the `!important` here to be able to override the default hidden behavior on the sphinx rendered scikit-learn.org. See: https://github.com/scikit-learn/scikit-learn/issues/21755 */display: inline-block !important;position: relative;}#sk-container-id-5 div.sk-text-repr-fallback {display: none;}</style><div id=\"sk-container-id-5\" class=\"sk-top-container\"><div class=\"sk-text-repr-fallback\"><pre>KNeighborsClassifier(n_neighbors=3)</pre><b>In a Jupyter environment, please rerun this cell to show the HTML representation or trust the notebook. <br />On GitHub, the HTML representation is unable to render, please try loading this page with nbviewer.org.</b></div><div class=\"sk-container\" hidden><div class=\"sk-item\"><div class=\"sk-estimator sk-toggleable\"><input class=\"sk-toggleable__control sk-hidden--visually\" id=\"sk-estimator-id-5\" type=\"checkbox\" checked><label for=\"sk-estimator-id-5\" class=\"sk-toggleable__label sk-toggleable__label-arrow\">KNeighborsClassifier</label><div class=\"sk-toggleable__content\"><pre>KNeighborsClassifier(n_neighbors=3)</pre></div></div></div></div></div>"
      ],
      "text/plain": [
       "KNeighborsClassifier(n_neighbors=3)"
      ]
     },
     "execution_count": 117,
     "metadata": {},
     "output_type": "execute_result"
    }
   ],
   "source": [
    "knn.fit(X_train, y_train)\n"
   ]
  },
  {
   "cell_type": "code",
   "execution_count": 118,
   "metadata": {},
   "outputs": [],
   "source": [
    "# Predict on the test set\n",
    "y_pred = knn.predict(X_test)"
   ]
  },
  {
   "cell_type": "code",
   "execution_count": 119,
   "metadata": {},
   "outputs": [],
   "source": [
    "from sklearn.metrics import accuracy_score, precision_score, recall_score, f1_score, confusion_matrix"
   ]
  },
  {
   "cell_type": "code",
   "execution_count": 120,
   "metadata": {},
   "outputs": [
    {
     "name": "stdout",
     "output_type": "stream",
     "text": [
      "Accuracy: 0.2972972972972973\n",
      "Precision: 0.2768412045585959\n",
      "Recall: 0.2972972972972973\n",
      "F1 Score: 0.28046229075640844\n",
      "Confusion Matrix:\n",
      " [[3 0 2 1 0 2 0 1 0 0 0]\n",
      " [0 0 1 0 0 1 0 0 0 0 0]\n",
      " [3 1 6 0 0 5 0 1 0 0 0]\n",
      " [2 0 1 3 0 3 0 0 0 0 0]\n",
      " [1 0 0 0 0 0 0 1 0 0 0]\n",
      " [1 0 1 2 2 8 0 2 0 0 0]\n",
      " [0 0 0 0 0 0 0 1 0 0 0]\n",
      " [3 2 2 1 0 3 0 2 0 0 0]\n",
      " [1 0 0 1 0 0 0 0 0 0 0]\n",
      " [0 0 1 0 0 1 0 1 0 0 0]\n",
      " [1 0 0 0 0 0 0 0 0 0 0]]\n"
     ]
    },
    {
     "name": "stderr",
     "output_type": "stream",
     "text": [
      "c:\\Users\\Lenovo\\AppData\\Local\\Programs\\Python\\Python310\\lib\\site-packages\\sklearn\\metrics\\_classification.py:1469: UndefinedMetricWarning: Precision is ill-defined and being set to 0.0 in labels with no predicted samples. Use `zero_division` parameter to control this behavior.\n",
      "  _warn_prf(average, modifier, msg_start, len(result))\n"
     ]
    }
   ],
   "source": [
    "# Calculate accuracy\n",
    "\n",
    "accuracy = accuracy_score(y_test, y_pred)\n",
    "precision = precision_score(y_test, y_pred, average='weighted')\n",
    "recall = recall_score(y_test, y_pred, average='weighted')\n",
    "f1 = f1_score(y_test, y_pred, average='weighted')\n",
    "conf_matrix = confusion_matrix(y_test, y_pred)\n",
    "\n",
    "# Print the evaluation metrics\n",
    "print(\"Accuracy:\", accuracy)\n",
    "print(\"Precision:\", precision)\n",
    "print(\"Recall:\", recall)\n",
    "print(\"F1 Score:\", f1)\n",
    "print(\"Confusion Matrix:\\n\", conf_matrix)"
   ]
  },
  {
   "cell_type": "code",
   "execution_count": 121,
   "metadata": {},
   "outputs": [
    {
     "name": "stderr",
     "output_type": "stream",
     "text": [
      "c:\\Users\\Lenovo\\AppData\\Local\\Programs\\Python\\Python310\\lib\\site-packages\\sklearn\\base.py:465: UserWarning: X does not have valid feature names, but KNeighborsClassifier was fitted with feature names\n",
      "  warnings.warn(\n"
     ]
    },
    {
     "data": {
      "text/plain": [
       "'action'"
      ]
     },
     "execution_count": 121,
     "metadata": {},
     "output_type": "execute_result"
    }
   ],
   "source": [
    "y1=knn.predict([[9,55,1]])\n",
    "y1[0]"
   ]
  },
  {
   "cell_type": "code",
   "execution_count": 122,
   "metadata": {},
   "outputs": [
    {
     "name": "stderr",
     "output_type": "stream",
     "text": [
      "c:\\Users\\Lenovo\\AppData\\Local\\Programs\\Python\\Python310\\lib\\site-packages\\sklearn\\base.py:465: UserWarning: X does not have valid feature names, but KNeighborsClassifier was fitted with feature names\n",
      "  warnings.warn(\n"
     ]
    },
    {
     "data": {
      "text/plain": [
       "'drama'"
      ]
     },
     "execution_count": 122,
     "metadata": {},
     "output_type": "execute_result"
    }
   ],
   "source": [
    "y2=knn.predict([[8.1,26,3]])\n",
    "y2[0]"
   ]
  },
  {
   "cell_type": "markdown",
   "metadata": {},
   "source": [
    "Disadvantages of the KNN Algorithm\n",
    "- Does not scale – As we have heard about this that the KNN algorithm is also considered a Lazy Algorithm. The main significance of - this term is that this takes lots of computing power as well as data storage. This makes this algorithm both time-consuming and - resource exhausting.\n",
    "- Curse of Dimensionality – There is a term known as the peaking phenomenon according to this the KNN algorithm is affected by the - curse of dimensionality which implies the algorithm faces a hard time classifying the data points properly when the dimensionality is - too high.\n",
    "- Prone to Overfitting – As the algorithm is affected due to the curse of dimensionality it is prone to the problem of overfitting as well. Hence generally feature selection as well as dimensionality reduction techniques are applied to deal with this problem."
   ]
  },
  {
   "cell_type": "code",
   "execution_count": 123,
   "metadata": {},
   "outputs": [
    {
     "data": {
      "image/png": "[encoded data removed]",
      "text/plain": [
       "<Figure size 640x480 with 1 Axes>"
      ]
     },
     "metadata": {},
     "output_type": "display_data"
    }
   ],
   "source": [
    "neighbors = np.arange(1, 12) \n",
    "train_accuracy = np.empty(len(neighbors)) \n",
    "test_accuracy = np.empty(len(neighbors))\n",
    "for i, k in enumerate(neighbors): \n",
    "    knn = KNeighborsClassifier(n_neighbors=k) \n",
    "    knn.fit(X_train, y_train) \n",
    "    train_accuracy[i] = knn.score(X_train, y_train) \n",
    "    test_accuracy[i] = knn.score(X_test, y_test) \n",
    "  \n",
    "# Generate plot \n",
    "plt.plot(neighbors, test_accuracy, label = 'Testing dataset Accuracy') \n",
    "plt.plot(neighbors, train_accuracy, label = 'Training dataset Accuracy') \n",
    "  \n",
    "plt.legend() \n",
    "plt.xlabel('n_neighbors') \n",
    "plt.ylabel('Accuracy') \n",
    "plt.show() "
   ]
  },
  {
   "cell_type": "markdown",
   "metadata": {},
   "source": [
    "**So here, neighbours are knn neigbouring value, so when no of neighbours=1 then training accuracy is higher than test accuracy , as we increase the no of neigbours, test accuracy increases and training accuracy decreases**"
   ]
  },
  {
   "cell_type": "markdown",
   "metadata": {},
   "source": [
    "**NOW WE WILL The process of standardisation THE DATA AS ACCURACY IS VERY LESS**\n",
    "We have 12 generes"
   ]
  },
  {
   "cell_type": "code",
   "execution_count": 124,
   "metadata": {},
   "outputs": [
    {
     "data": {
      "text/plain": [
       "MAIN_GENRE\n",
       "drama          82\n",
       "scifi          45\n",
       "comedy         43\n",
       "action         28\n",
       "crime          20\n",
       "war             8\n",
       "documentary     7\n",
       "animation       4\n",
       "thriller        4\n",
       "western         2\n",
       "reality         2\n",
       "romance         1\n",
       "Name: count, dtype: int64"
      ]
     },
     "execution_count": 124,
     "metadata": {},
     "output_type": "execute_result"
    }
   ],
   "source": [
    "df1['MAIN_GENRE'].value_counts()"
   ]
  },
  {
   "cell_type": "markdown",
   "metadata": {},
   "source": [
    "**Now we will drop the show genres which are less than 20 , so that we have limited classes**"
   ]
  },
  {
   "cell_type": "code",
   "execution_count": 125,
   "metadata": {},
   "outputs": [],
   "source": [
    "df2=df1\n",
    "genres_to_delete = ['war', 'documentary', 'animation', 'thriller', 'western', 'reality', 'romance']\n",
    "\n",
    "# Delete rows corresponding to the specified genres\n",
    "df_filtered = df2[~df2['MAIN_GENRE'].isin(genres_to_delete)]"
   ]
  },
  {
   "cell_type": "code",
   "execution_count": 126,
   "metadata": {},
   "outputs": [
    {
     "data": {
      "text/html": [
       "<div>\n",
       "<style scoped>\n",
       "    .dataframe tbody tr th:only-of-type {\n",
       "        vertical-align: middle;\n",
       "    }\n",
       "\n",
       "    .dataframe tbody tr th {\n",
       "        vertical-align: top;\n",
       "    }\n",
       "\n",
       "    .dataframe thead th {\n",
       "        text-align: right;\n",
       "    }\n",
       "</style>\n",
       "<table border=\"1\" class=\"dataframe\">\n",
       "  <thead>\n",
       "    <tr style=\"text-align: right;\">\n",
       "      <th></th>\n",
       "      <th>TITLE</th>\n",
       "      <th>RELEASE_YEAR</th>\n",
       "      <th>SCORE</th>\n",
       "      <th>NUMBER_OF_VOTES</th>\n",
       "      <th>DURATION</th>\n",
       "      <th>NUMBER_OF_SEASONS</th>\n",
       "      <th>MAIN_GENRE</th>\n",
       "      <th>MAIN_PRODUCTION</th>\n",
       "    </tr>\n",
       "  </thead>\n",
       "  <tbody>\n",
       "    <tr>\n",
       "      <th>0</th>\n",
       "      <td>Breaking Bad</td>\n",
       "      <td>2008</td>\n",
       "      <td>9.5</td>\n",
       "      <td>1727694</td>\n",
       "      <td>48</td>\n",
       "      <td>5</td>\n",
       "      <td>drama</td>\n",
       "      <td>US</td>\n",
       "    </tr>\n",
       "    <tr>\n",
       "      <th>1</th>\n",
       "      <td>Avatar: The Last Airbender</td>\n",
       "      <td>2005</td>\n",
       "      <td>9.3</td>\n",
       "      <td>297336</td>\n",
       "      <td>24</td>\n",
       "      <td>3</td>\n",
       "      <td>scifi</td>\n",
       "      <td>US</td>\n",
       "    </tr>\n",
       "    <tr>\n",
       "      <th>3</th>\n",
       "      <td>Kota Factory</td>\n",
       "      <td>2019</td>\n",
       "      <td>9.3</td>\n",
       "      <td>66985</td>\n",
       "      <td>42</td>\n",
       "      <td>2</td>\n",
       "      <td>drama</td>\n",
       "      <td>IN</td>\n",
       "    </tr>\n",
       "    <tr>\n",
       "      <th>5</th>\n",
       "      <td>Arcane</td>\n",
       "      <td>2021</td>\n",
       "      <td>9.1</td>\n",
       "      <td>175412</td>\n",
       "      <td>41</td>\n",
       "      <td>1</td>\n",
       "      <td>action</td>\n",
       "      <td>US</td>\n",
       "    </tr>\n",
       "    <tr>\n",
       "      <th>6</th>\n",
       "      <td>Attack on Titan</td>\n",
       "      <td>2013</td>\n",
       "      <td>9.0</td>\n",
       "      <td>325381</td>\n",
       "      <td>24</td>\n",
       "      <td>4</td>\n",
       "      <td>scifi</td>\n",
       "      <td>JP</td>\n",
       "    </tr>\n",
       "    <tr>\n",
       "      <th>...</th>\n",
       "      <td>...</td>\n",
       "      <td>...</td>\n",
       "      <td>...</td>\n",
       "      <td>...</td>\n",
       "      <td>...</td>\n",
       "      <td>...</td>\n",
       "      <td>...</td>\n",
       "      <td>...</td>\n",
       "    </tr>\n",
       "    <tr>\n",
       "      <th>241</th>\n",
       "      <td>Evil Genius</td>\n",
       "      <td>2018</td>\n",
       "      <td>7.5</td>\n",
       "      <td>27516</td>\n",
       "      <td>48</td>\n",
       "      <td>1</td>\n",
       "      <td>crime</td>\n",
       "      <td>US</td>\n",
       "    </tr>\n",
       "    <tr>\n",
       "      <th>242</th>\n",
       "      <td>13 Reasons Why</td>\n",
       "      <td>2017</td>\n",
       "      <td>7.5</td>\n",
       "      <td>282373</td>\n",
       "      <td>58</td>\n",
       "      <td>4</td>\n",
       "      <td>drama</td>\n",
       "      <td>US</td>\n",
       "    </tr>\n",
       "    <tr>\n",
       "      <th>243</th>\n",
       "      <td>Lupin</td>\n",
       "      <td>2021</td>\n",
       "      <td>7.5</td>\n",
       "      <td>100575</td>\n",
       "      <td>46</td>\n",
       "      <td>3</td>\n",
       "      <td>crime</td>\n",
       "      <td>FR</td>\n",
       "    </tr>\n",
       "    <tr>\n",
       "      <th>244</th>\n",
       "      <td>All of Us Are Dead</td>\n",
       "      <td>2022</td>\n",
       "      <td>7.5</td>\n",
       "      <td>41393</td>\n",
       "      <td>61</td>\n",
       "      <td>1</td>\n",
       "      <td>action</td>\n",
       "      <td>KR</td>\n",
       "    </tr>\n",
       "    <tr>\n",
       "      <th>245</th>\n",
       "      <td>I Am Not Okay with This</td>\n",
       "      <td>2020</td>\n",
       "      <td>7.5</td>\n",
       "      <td>56459</td>\n",
       "      <td>21</td>\n",
       "      <td>1</td>\n",
       "      <td>comedy</td>\n",
       "      <td>US</td>\n",
       "    </tr>\n",
       "  </tbody>\n",
       "</table>\n",
       "<p>218 rows × 8 columns</p>\n",
       "</div>"
      ],
      "text/plain": [
       "                          TITLE  RELEASE_YEAR  SCORE  NUMBER_OF_VOTES  \\\n",
       "0                  Breaking Bad          2008    9.5          1727694   \n",
       "1    Avatar: The Last Airbender          2005    9.3           297336   \n",
       "3                  Kota Factory          2019    9.3            66985   \n",
       "5                        Arcane          2021    9.1           175412   \n",
       "6               Attack on Titan          2013    9.0           325381   \n",
       "..                          ...           ...    ...              ...   \n",
       "241                 Evil Genius          2018    7.5            27516   \n",
       "242              13 Reasons Why          2017    7.5           282373   \n",
       "243                       Lupin          2021    7.5           100575   \n",
       "244          All of Us Are Dead          2022    7.5            41393   \n",
       "245     I Am Not Okay with This          2020    7.5            56459   \n",
       "\n",
       "     DURATION  NUMBER_OF_SEASONS MAIN_GENRE MAIN_PRODUCTION  \n",
       "0          48                  5      drama              US  \n",
       "1          24                  3      scifi              US  \n",
       "3          42                  2      drama              IN  \n",
       "5          41                  1     action              US  \n",
       "6          24                  4      scifi              JP  \n",
       "..        ...                ...        ...             ...  \n",
       "241        48                  1      crime              US  \n",
       "242        58                  4      drama              US  \n",
       "243        46                  3      crime              FR  \n",
       "244        61                  1     action              KR  \n",
       "245        21                  1     comedy              US  \n",
       "\n",
       "[218 rows x 8 columns]"
      ]
     },
     "execution_count": 126,
     "metadata": {},
     "output_type": "execute_result"
    }
   ],
   "source": [
    "df_filtered"
   ]
  },
  {
   "cell_type": "code",
   "execution_count": 127,
   "metadata": {},
   "outputs": [
    {
     "data": {
      "text/plain": [
       "<Axes: >"
      ]
     },
     "execution_count": 127,
     "metadata": {},
     "output_type": "execute_result"
    },
    {
     "data": {
      "image/png": "[encoded data removed]",
      "text/plain": [
       "<Figure size 640x480 with 2 Axes>"
      ]
     },
     "metadata": {},
     "output_type": "display_data"
    }
   ],
   "source": [
    "X2=df_filtered[['SCORE','DURATION','NUMBER_OF_SEASONS','NUMBER_OF_VOTES']]\n",
    "c=X2.corr()\n",
    "sns.heatmap(c)"
   ]
  },
  {
   "cell_type": "markdown",
   "metadata": {},
   "source": [
    "As from heatmap , we will drop no of votes column as it is higly correlating with other columns which can cause multicollienarity "
   ]
  },
  {
   "cell_type": "code",
   "execution_count": 128,
   "metadata": {},
   "outputs": [],
   "source": [
    "X1=df_filtered[['SCORE','DURATION','NUMBER_OF_SEASONS']]\n",
    "y1=df_filtered['MAIN_GENRE']"
   ]
  },
  {
   "cell_type": "code",
   "execution_count": 129,
   "metadata": {},
   "outputs": [],
   "source": [
    "\n",
    "X_train1, X_test1, y_train1, y_test1 = train_test_split(X1, y1, test_size=0.3, random_state=42)"
   ]
  },
  {
   "cell_type": "code",
   "execution_count": 130,
   "metadata": {},
   "outputs": [
    {
     "data": {
      "text/plain": [
       "((152, 3), (66, 3))"
      ]
     },
     "execution_count": 130,
     "metadata": {},
     "output_type": "execute_result"
    }
   ],
   "source": [
    "X_train1.shape,X_test1.shape"
   ]
  },
  {
   "cell_type": "code",
   "execution_count": 131,
   "metadata": {},
   "outputs": [],
   "source": [
    "from sklearn.preprocessing import StandardScaler\n",
    "\n",
    "scaler = StandardScaler()\n",
    "\n",
    "# fit the scaler to the train set, it will learn the parameters\n",
    "scaler.fit(X_train1)\n",
    "\n",
    "# transform train and test sets\n",
    "X_train_scaled = scaler.transform(X_train1)\n",
    "X_test_scaled = scaler.transform(X_test1)"
   ]
  },
  {
   "cell_type": "code",
   "execution_count": 132,
   "metadata": {},
   "outputs": [
    {
     "data": {
      "text/html": [
       "<div>\n",
       "<style scoped>\n",
       "    .dataframe tbody tr th:only-of-type {\n",
       "        vertical-align: middle;\n",
       "    }\n",
       "\n",
       "    .dataframe tbody tr th {\n",
       "        vertical-align: top;\n",
       "    }\n",
       "\n",
       "    .dataframe thead th {\n",
       "        text-align: right;\n",
       "    }\n",
       "</style>\n",
       "<table border=\"1\" class=\"dataframe\">\n",
       "  <thead>\n",
       "    <tr style=\"text-align: right;\">\n",
       "      <th></th>\n",
       "      <th>SCORE</th>\n",
       "      <th>DURATION</th>\n",
       "      <th>NUMBER_OF_SEASONS</th>\n",
       "    </tr>\n",
       "  </thead>\n",
       "  <tbody>\n",
       "    <tr>\n",
       "      <th>91</th>\n",
       "      <td>8.2</td>\n",
       "      <td>62</td>\n",
       "      <td>2</td>\n",
       "    </tr>\n",
       "    <tr>\n",
       "      <th>71</th>\n",
       "      <td>8.4</td>\n",
       "      <td>56</td>\n",
       "      <td>3</td>\n",
       "    </tr>\n",
       "    <tr>\n",
       "      <th>158</th>\n",
       "      <td>7.8</td>\n",
       "      <td>24</td>\n",
       "      <td>5</td>\n",
       "    </tr>\n",
       "    <tr>\n",
       "      <th>209</th>\n",
       "      <td>7.6</td>\n",
       "      <td>42</td>\n",
       "      <td>8</td>\n",
       "    </tr>\n",
       "    <tr>\n",
       "      <th>35</th>\n",
       "      <td>8.6</td>\n",
       "      <td>31</td>\n",
       "      <td>5</td>\n",
       "    </tr>\n",
       "    <tr>\n",
       "      <th>...</th>\n",
       "      <td>...</td>\n",
       "      <td>...</td>\n",
       "      <td>...</td>\n",
       "    </tr>\n",
       "    <tr>\n",
       "      <th>120</th>\n",
       "      <td>8.0</td>\n",
       "      <td>62</td>\n",
       "      <td>1</td>\n",
       "    </tr>\n",
       "    <tr>\n",
       "      <th>17</th>\n",
       "      <td>8.8</td>\n",
       "      <td>52</td>\n",
       "      <td>3</td>\n",
       "    </tr>\n",
       "    <tr>\n",
       "      <th>102</th>\n",
       "      <td>8.2</td>\n",
       "      <td>46</td>\n",
       "      <td>11</td>\n",
       "    </tr>\n",
       "    <tr>\n",
       "      <th>204</th>\n",
       "      <td>7.6</td>\n",
       "      <td>44</td>\n",
       "      <td>5</td>\n",
       "    </tr>\n",
       "    <tr>\n",
       "      <th>116</th>\n",
       "      <td>8.1</td>\n",
       "      <td>47</td>\n",
       "      <td>7</td>\n",
       "    </tr>\n",
       "  </tbody>\n",
       "</table>\n",
       "<p>152 rows × 3 columns</p>\n",
       "</div>"
      ],
      "text/plain": [
       "     SCORE  DURATION  NUMBER_OF_SEASONS\n",
       "91     8.2        62                  2\n",
       "71     8.4        56                  3\n",
       "158    7.8        24                  5\n",
       "209    7.6        42                  8\n",
       "35     8.6        31                  5\n",
       "..     ...       ...                ...\n",
       "120    8.0        62                  1\n",
       "17     8.8        52                  3\n",
       "102    8.2        46                 11\n",
       "204    7.6        44                  5\n",
       "116    8.1        47                  7\n",
       "\n",
       "[152 rows x 3 columns]"
      ]
     },
     "execution_count": 132,
     "metadata": {},
     "output_type": "execute_result"
    }
   ],
   "source": [
    "X_train1"
   ]
  },
  {
   "cell_type": "code",
   "execution_count": 133,
   "metadata": {},
   "outputs": [
    {
     "data": {
      "text/plain": [
       "array([[ 0.20850421,  1.29130757, -0.54894074],\n",
       "       [ 0.64264995,  0.90993694, -0.24217974],\n",
       "       [-0.65978729, -1.12403975,  0.37134227],\n",
       "       [-1.09393303,  0.02007214,  1.29162528],\n",
       "       [ 1.0767957 , -0.67910735,  0.37134227],\n",
       "       [ 1.51094145, -1.31472507, -0.24217974],\n",
       "       [ 1.0767957 ,  0.7828134 ,  2.21190829],\n",
       "       [ 1.0767957 ,  0.71925163, -0.54894074],\n",
       "       [ 0.85972283, -1.06047798,  0.37134227],\n",
       "       [-0.87686016,  0.02007214,  1.29162528],\n",
       "       [-0.22564154,  0.7828134 , -0.54894074],\n",
       "       [-0.65978729, -1.31472507, -0.24217974],\n",
       "       [ 0.64264995,  0.14719568,  3.43895231],\n",
       "       [-0.44271441,  0.97349871, -0.24217974],\n",
       "       [-1.09393303,  0.21075745, -0.85570175],\n",
       "       [ 0.42557708, -1.06047798,  0.98486428],\n",
       "       [ 0.85972283,  0.90993694,  2.21190829],\n",
       "       [-1.31100591,  0.08363391, -0.54894074],\n",
       "       [ 0.42557708, -1.2511633 ,  0.37134227],\n",
       "       [-0.44271441,  0.59212808, -0.24217974],\n",
       "       [ 1.29386857, -1.12403975, -0.24217974],\n",
       "       [-0.65978729,  0.08363391, -0.54894074],\n",
       "       [-0.44271441,  0.02007214,  0.37134227],\n",
       "       [-0.44271441,  0.65568986, -0.54894074],\n",
       "       [ 2.59630582,  0.02007214, -0.54894074],\n",
       "       [ 0.42557708, -0.99691621,  0.06458126],\n",
       "       [ 0.85972283, -0.93335444, -0.85570175],\n",
       "       [-0.65978729,  0.46500454, -0.24217974],\n",
       "       [-1.31100591, -1.50541038, -0.24217974],\n",
       "       [ 0.20850421,  0.27431923,  1.29162528],\n",
       "       [ 0.20850421,  1.73623997, -0.85570175],\n",
       "       [-0.65978729,  1.10062226, -0.85570175],\n",
       "       [-0.00856867, -0.55198381, -0.54894074],\n",
       "       [ 1.0767957 ,  0.52856631, -0.54894074],\n",
       "       [-0.44271441, -0.80623089, -0.24217974],\n",
       "       [ 0.64264995,  0.40144277, -0.54894074],\n",
       "       [ 1.29386857,  0.90993694,  0.37134227],\n",
       "       [-0.65978729, -0.86979267, -0.54894074],\n",
       "       [-0.22564154,  0.21075745, -0.24217974],\n",
       "       [ 1.0767957 ,  2.18117238, -0.85570175],\n",
       "       [ 1.51094145, -0.99691621,  0.67810327],\n",
       "       [-1.31100591,  1.16418403, -0.85570175],\n",
       "       [-1.09393303,  0.97349871, -0.85570175],\n",
       "       [ 1.9450872 , -1.12403975, -0.85570175],\n",
       "       [ 1.0767957 , -1.06047798,  2.51866929],\n",
       "       [-1.09393303, -0.74266912,  0.06458126],\n",
       "       [-1.31100591,  0.52856631, -0.85570175],\n",
       "       [-1.31100591,  0.02007214,  0.06458126],\n",
       "       [ 1.9450872 , -1.12403975,  0.06458126],\n",
       "       [ 1.0767957 ,  0.27431923,  1.59838628],\n",
       "       [-0.22564154,  0.7828134 , -0.85570175],\n",
       "       [-1.31100591, -1.12403975, -0.54894074],\n",
       "       [-0.44271441,  0.14719568,  0.37134227],\n",
       "       [-0.65978729,  0.46500454, -0.54894074],\n",
       "       [-0.22564154,  0.84637517, -0.54894074],\n",
       "       [ 1.51094145, -0.74266912,  0.06458126],\n",
       "       [ 0.64264995,  0.46500454,  0.06458126],\n",
       "       [-0.44271441,  0.84637517, -0.54894074],\n",
       "       [-0.87686016, -0.61554558, -0.24217974],\n",
       "       [-1.31100591,  1.2277458 , -0.85570175],\n",
       "       [ 3.03045156,  0.40144277,  0.37134227],\n",
       "       [-1.31100591,  0.46500454, -0.54894074],\n",
       "       [-0.87686016,  1.29130757, -0.85570175],\n",
       "       [ 0.42557708,  0.65568986,  0.06458126],\n",
       "       [-0.87686016, -0.17061318, -0.85570175],\n",
       "       [ 0.64264995, -1.06047798, -0.85570175],\n",
       "       [ 0.85972283,  0.21075745,  3.43895231],\n",
       "       [-0.65978729, -1.2511633 ,  0.67810327],\n",
       "       [ 0.85972283, -1.12403975, -0.85570175],\n",
       "       [-0.44271441,  0.08363391, -0.24217974],\n",
       "       [ 1.29386857, -0.86979267,  0.37134227],\n",
       "       [-0.87686016, -0.74266912, -0.24217974],\n",
       "       [-0.87686016, -0.04348963,  0.06458126],\n",
       "       [ 0.20850421,  1.29130757, -0.54894074],\n",
       "       [ 0.85972283, -1.2511633 ,  0.67810327],\n",
       "       [-1.09393303, -0.04348963,  1.29162528],\n",
       "       [ 0.85972283, -0.86979267, -0.24217974],\n",
       "       [-0.00856867,  0.84637517, -0.85570175],\n",
       "       [-1.09393303, -0.86979267, -0.85570175],\n",
       "       [ 0.85972283, -1.2511633 , -0.85570175],\n",
       "       [-0.65978729,  0.02007214,  0.37134227],\n",
       "       [-0.65978729,  0.14719568, -0.24217974],\n",
       "       [ 2.16216007, -0.04348963, -0.85570175],\n",
       "       [-0.22564154, -0.86979267,  0.37134227],\n",
       "       [ 0.64264995, -1.18760152, -0.54894074],\n",
       "       [-0.44271441,  0.21075745,  0.06458126],\n",
       "       [-1.31100591,  0.02007214,  1.29162528],\n",
       "       [-1.09393303,  0.02007214,  0.98486428],\n",
       "       [-1.31100591,  0.337881  , -0.85570175],\n",
       "       [ 0.85972283,  1.03706049,  0.06458126],\n",
       "       [ 0.42557708,  0.84637517,  0.06458126],\n",
       "       [ 1.0767957 ,  1.29130757, -0.54894074],\n",
       "       [ 1.72801432, -1.12403975,  1.59838628],\n",
       "       [-0.22564154, -0.67910735, -0.54894074],\n",
       "       [ 0.20850421, -1.06047798, -0.54894074],\n",
       "       [ 0.20850421, -0.80623089,  0.06458126],\n",
       "       [-1.31100591,  0.27431923, -0.54894074],\n",
       "       [-1.31100591,  0.337881  , -0.85570175],\n",
       "       [ 0.20850421,  0.52856631,  0.06458126],\n",
       "       [ 1.72801432, -0.86979267, -0.85570175],\n",
       "       [ 1.51094145,  0.46500454,  0.67810327],\n",
       "       [ 0.64264995,  0.59212808, -0.85570175],\n",
       "       [-1.09393303,  0.14719568, -0.54894074],\n",
       "       [-0.44271441, -1.63253393, -0.24217974],\n",
       "       [ 1.29386857,  0.27431923, -0.24217974],\n",
       "       [-0.87686016,  0.84637517, -0.85570175],\n",
       "       [ 0.42557708,  0.52856631,  0.37134227],\n",
       "       [-1.09393303,  6.31268754, -0.85570175],\n",
       "       [-0.44271441,  0.71925163, -0.85570175],\n",
       "       [-1.09393303,  1.10062226, -0.24217974],\n",
       "       [-1.31100591,  1.10062226, -0.85570175],\n",
       "       [ 0.64264995,  0.14719568,  1.90514729],\n",
       "       [ 0.64264995, -1.06047798, -0.24217974],\n",
       "       [-0.22564154, -0.48842204,  0.06458126],\n",
       "       [ 0.64264995, -0.74266912, -0.24217974],\n",
       "       [-1.09393303,  0.52856631, -0.85570175],\n",
       "       [-1.31100591,  1.03706049,  0.06458126],\n",
       "       [-0.87686016, -1.31472507,  0.98486428],\n",
       "       [ 0.64264995, -1.18760152,  0.06458126],\n",
       "       [ 0.85972283, -1.06047798, -0.54894074],\n",
       "       [ 0.20850421,  1.03706049, -0.54894074],\n",
       "       [ 1.29386857, -1.12403975, -0.54894074],\n",
       "       [ 0.64264995,  1.16418403,  0.67810327],\n",
       "       [-0.87686016,  1.41843112, -0.85570175],\n",
       "       [-1.31100591,  0.27431923, -0.85570175],\n",
       "       [-1.09393303, -1.06047798, -0.85570175],\n",
       "       [-1.09393303,  0.46500454,  4.35923532],\n",
       "       [-0.44271441,  0.21075745, -0.24217974],\n",
       "       [ 0.85972283, -1.18760152,  0.67810327],\n",
       "       [-0.87686016, -0.99691621, -0.85570175],\n",
       "       [-1.31100591,  0.08363391, -0.24217974],\n",
       "       [ 2.59630582, -1.12403975, -0.24217974],\n",
       "       [ 0.64264995,  0.40144277, -0.85570175],\n",
       "       [-0.65978729,  0.02007214,  0.06458126],\n",
       "       [-0.44271441,  1.41843112, -0.85570175],\n",
       "       [-0.65978729,  0.14719568,  4.66599632],\n",
       "       [-0.00856867, -1.12403975, -0.24217974],\n",
       "       [-0.00856867, -1.31472507, -0.54894074],\n",
       "       [-0.22564154,  0.08363391,  1.59838628],\n",
       "       [ 0.20850421, -0.74266912,  0.98486428],\n",
       "       [-1.31100591,  0.337881  , -0.54894074],\n",
       "       [ 0.42557708, -0.67910735,  0.06458126],\n",
       "       [-0.44271441, -1.06047798, -0.85570175],\n",
       "       [-1.31100591, -1.31472507, -0.85570175],\n",
       "       [ 1.29386857,  0.65568986,  0.37134227],\n",
       "       [-1.09393303, -1.18760152,  0.06458126],\n",
       "       [ 0.42557708,  0.40144277, -0.54894074],\n",
       "       [-0.22564154,  1.29130757, -0.85570175],\n",
       "       [ 1.51094145,  0.65568986, -0.24217974],\n",
       "       [ 0.20850421,  0.27431923,  2.21190829],\n",
       "       [-1.09393303,  0.14719568,  0.37134227],\n",
       "       [-0.00856867,  0.337881  ,  0.98486428]])"
      ]
     },
     "execution_count": 133,
     "metadata": {},
     "output_type": "execute_result"
    }
   ],
   "source": [
    "X_train_scaled"
   ]
  },
  {
   "cell_type": "markdown",
   "metadata": {},
   "source": [
    "Standardization, also known as feature scaling, is an essential preprocessing step in many machine learning algorithms. It involves transforming the features of a dataset so that they have a mean of 0 and a standard deviation of 1.\n",
    "\n",
    "Helps Gradient Descent Converge Faster: In optimization algorithms like gradient descent, feature scaling can help the algorithm converge more quickly. Features with larger scales can cause the optimization process to take longer to converge because the updates to the weights associated with those features will be larger. Standardizing the features puts them on a similar scale, which can speed up convergence.\n",
    "\n",
    "Improves Performance of Distance-Based Algorithms: Algorithms that rely on distance measures, such as k-Nearest Neighbors (kNN) and Support Vector Machines (SVM), can be sensitive to the scale of the features. Without standardization, features with larger scales may dominate the distance calculations, leading to biased results. Standardizing the features ensures that each feature contributes equally to the distance calculations, resulting in more accurate predictions.\n",
    "\n",
    "Regularization: In algorithms that use regularization techniques like Ridge Regression or Lasso Regression, standardization can be important for ensuring that all features are penalized equally. Without standardization, the regularization penalties may unfairly penalize features with larger scales."
   ]
  },
  {
   "cell_type": "code",
   "execution_count": 134,
   "metadata": {},
   "outputs": [],
   "source": [
    "k1 = 3 # Number of neighbors to consider\n",
    "knn1 = KNeighborsClassifier(n_neighbors=k1)"
   ]
  },
  {
   "cell_type": "code",
   "execution_count": 135,
   "metadata": {},
   "outputs": [
    {
     "data": {
      "text/html": [
       "<style>#sk-container-id-6 {color: black;}#sk-container-id-6 pre{padding: 0;}#sk-container-id-6 div.sk-toggleable {background-color: white;}#sk-container-id-6 label.sk-toggleable__label {cursor: pointer;display: block;width: 100%;margin-bottom: 0;padding: 0.3em;box-sizing: border-box;text-align: center;}#sk-container-id-6 label.sk-toggleable__label-arrow:before {content: \"▸\";float: left;margin-right: 0.25em;color: #696969;}#sk-container-id-6 label.sk-toggleable__label-arrow:hover:before {color: black;}#sk-container-id-6 div.sk-estimator:hover label.sk-toggleable__label-arrow:before {color: black;}#sk-container-id-6 div.sk-toggleable__content {max-height: 0;max-width: 0;overflow: hidden;text-align: left;background-color: #f0f8ff;}#sk-container-id-6 div.sk-toggleable__content pre {margin: 0.2em;color: black;border-radius: 0.25em;background-color: #f0f8ff;}#sk-container-id-6 input.sk-toggleable__control:checked~div.sk-toggleable__content {max-height: 200px;max-width: 100%;overflow: auto;}#sk-container-id-6 input.sk-toggleable__control:checked~label.sk-toggleable__label-arrow:before {content: \"▾\";}#sk-container-id-6 div.sk-estimator input.sk-toggleable__control:checked~label.sk-toggleable__label {background-color: #d4ebff;}#sk-container-id-6 div.sk-label input.sk-toggleable__control:checked~label.sk-toggleable__label {background-color: #d4ebff;}#sk-container-id-6 input.sk-hidden--visually {border: 0;clip: rect(1px 1px 1px 1px);clip: rect(1px, 1px, 1px, 1px);height: 1px;margin: -1px;overflow: hidden;padding: 0;position: absolute;width: 1px;}#sk-container-id-6 div.sk-estimator {font-family: monospace;background-color: #f0f8ff;border: 1px dotted black;border-radius: 0.25em;box-sizing: border-box;margin-bottom: 0.5em;}#sk-container-id-6 div.sk-estimator:hover {background-color: #d4ebff;}#sk-container-id-6 div.sk-parallel-item::after {content: \"\";width: 100%;border-bottom: 1px solid gray;flex-grow: 1;}#sk-container-id-6 div.sk-label:hover label.sk-toggleable__label {background-color: #d4ebff;}#sk-container-id-6 div.sk-serial::before {content: \"\";position: absolute;border-left: 1px solid gray;box-sizing: border-box;top: 0;bottom: 0;left: 50%;z-index: 0;}#sk-container-id-6 div.sk-serial {display: flex;flex-direction: column;align-items: center;background-color: white;padding-right: 0.2em;padding-left: 0.2em;position: relative;}#sk-container-id-6 div.sk-item {position: relative;z-index: 1;}#sk-container-id-6 div.sk-parallel {display: flex;align-items: stretch;justify-content: center;background-color: white;position: relative;}#sk-container-id-6 div.sk-item::before, #sk-container-id-6 div.sk-parallel-item::before {content: \"\";position: absolute;border-left: 1px solid gray;box-sizing: border-box;top: 0;bottom: 0;left: 50%;z-index: -1;}#sk-container-id-6 div.sk-parallel-item {display: flex;flex-direction: column;z-index: 1;position: relative;background-color: white;}#sk-container-id-6 div.sk-parallel-item:first-child::after {align-self: flex-end;width: 50%;}#sk-container-id-6 div.sk-parallel-item:last-child::after {align-self: flex-start;width: 50%;}#sk-container-id-6 div.sk-parallel-item:only-child::after {width: 0;}#sk-container-id-6 div.sk-dashed-wrapped {border: 1px dashed gray;margin: 0 0.4em 0.5em 0.4em;box-sizing: border-box;padding-bottom: 0.4em;background-color: white;}#sk-container-id-6 div.sk-label label {font-family: monospace;font-weight: bold;display: inline-block;line-height: 1.2em;}#sk-container-id-6 div.sk-label-container {text-align: center;}#sk-container-id-6 div.sk-container {/* jupyter's `normalize.less` sets `[hidden] { display: none; }` but bootstrap.min.css set `[hidden] { display: none !important; }` so we also need the `!important` here to be able to override the default hidden behavior on the sphinx rendered scikit-learn.org. See: https://github.com/scikit-learn/scikit-learn/issues/21755 */display: inline-block !important;position: relative;}#sk-container-id-6 div.sk-text-repr-fallback {display: none;}</style><div id=\"sk-container-id-6\" class=\"sk-top-container\"><div class=\"sk-text-repr-fallback\"><pre>KNeighborsClassifier(n_neighbors=3)</pre><b>In a Jupyter environment, please rerun this cell to show the HTML representation or trust the notebook. <br />On GitHub, the HTML representation is unable to render, please try loading this page with nbviewer.org.</b></div><div class=\"sk-container\" hidden><div class=\"sk-item\"><div class=\"sk-estimator sk-toggleable\"><input class=\"sk-toggleable__control sk-hidden--visually\" id=\"sk-estimator-id-6\" type=\"checkbox\" checked><label for=\"sk-estimator-id-6\" class=\"sk-toggleable__label sk-toggleable__label-arrow\">KNeighborsClassifier</label><div class=\"sk-toggleable__content\"><pre>KNeighborsClassifier(n_neighbors=3)</pre></div></div></div></div></div>"
      ],
      "text/plain": [
       "KNeighborsClassifier(n_neighbors=3)"
      ]
     },
     "execution_count": 135,
     "metadata": {},
     "output_type": "execute_result"
    }
   ],
   "source": [
    "knn1.fit(X_train_scaled, y_train1)"
   ]
  },
  {
   "cell_type": "code",
   "execution_count": 136,
   "metadata": {},
   "outputs": [],
   "source": [
    "# Predict on the test set\n",
    "y_pred1 = knn1.predict(X_test_scaled)"
   ]
  },
  {
   "cell_type": "code",
   "execution_count": 137,
   "metadata": {},
   "outputs": [
    {
     "name": "stdout",
     "output_type": "stream",
     "text": [
      "Accuracy: 0.3181818181818182\n"
     ]
    }
   ],
   "source": [
    "accuracy = accuracy_score(y_test1, y_pred1)\n",
    "print(\"Accuracy:\", accuracy)"
   ]
  },
  {
   "cell_type": "code",
   "execution_count": 138,
   "metadata": {},
   "outputs": [
    {
     "data": {
      "text/html": [
       "<div>\n",
       "<style scoped>\n",
       "    .dataframe tbody tr th:only-of-type {\n",
       "        vertical-align: middle;\n",
       "    }\n",
       "\n",
       "    .dataframe tbody tr th {\n",
       "        vertical-align: top;\n",
       "    }\n",
       "\n",
       "    .dataframe thead th {\n",
       "        text-align: right;\n",
       "    }\n",
       "</style>\n",
       "<table border=\"1\" class=\"dataframe\">\n",
       "  <thead>\n",
       "    <tr style=\"text-align: right;\">\n",
       "      <th></th>\n",
       "      <th>TITLE</th>\n",
       "      <th>RELEASE_YEAR</th>\n",
       "      <th>SCORE</th>\n",
       "      <th>NUMBER_OF_VOTES</th>\n",
       "      <th>DURATION</th>\n",
       "      <th>NUMBER_OF_SEASONS</th>\n",
       "      <th>MAIN_GENRE</th>\n",
       "      <th>MAIN_PRODUCTION</th>\n",
       "    </tr>\n",
       "  </thead>\n",
       "  <tbody>\n",
       "    <tr>\n",
       "      <th>0</th>\n",
       "      <td>Breaking Bad</td>\n",
       "      <td>2008</td>\n",
       "      <td>9.5</td>\n",
       "      <td>1727694</td>\n",
       "      <td>48</td>\n",
       "      <td>5</td>\n",
       "      <td>drama</td>\n",
       "      <td>US</td>\n",
       "    </tr>\n",
       "  </tbody>\n",
       "</table>\n",
       "</div>"
      ],
      "text/plain": [
       "          TITLE  RELEASE_YEAR  SCORE  NUMBER_OF_VOTES  DURATION  \\\n",
       "0  Breaking Bad          2008    9.5          1727694        48   \n",
       "\n",
       "   NUMBER_OF_SEASONS MAIN_GENRE MAIN_PRODUCTION  \n",
       "0                  5      drama              US  "
      ]
     },
     "execution_count": 138,
     "metadata": {},
     "output_type": "execute_result"
    }
   ],
   "source": [
    "df1.head(1)"
   ]
  },
  {
   "cell_type": "code",
   "execution_count": 139,
   "metadata": {},
   "outputs": [
    {
     "data": {
      "text/plain": [
       "'drama'"
      ]
     },
     "execution_count": 139,
     "metadata": {},
     "output_type": "execute_result"
    }
   ],
   "source": [
    "#Now we will predict what will be the genre of show of Breaking Bad\n",
    "s=9.5\n",
    "d=48\n",
    "#v=1727694\t\n",
    "s1=5\n",
    "y1=knn1.predict([[s,d,s1]])\n",
    "y1[0]"
   ]
  },
  {
   "cell_type": "code",
   "execution_count": 140,
   "metadata": {},
   "outputs": [],
   "source": [
    "from sklearn.metrics import accuracy_score, precision_score, recall_score, f1_score, confusion_matrix"
   ]
  },
  {
   "cell_type": "code",
   "execution_count": 141,
   "metadata": {},
   "outputs": [
    {
     "name": "stdout",
     "output_type": "stream",
     "text": [
      "Accuracy: 0.3181818181818182\n",
      "Precision: 0.36167122351332875\n",
      "Recall: 0.3181818181818182\n",
      "F1 Score: 0.31788539743085203\n",
      "Confusion Matrix:\n",
      " [[ 3  2  0  4  0]\n",
      " [ 2  5  0  0  1]\n",
      " [ 1  1  1  3  0]\n",
      " [ 2  8  4 10  5]\n",
      " [ 4  4  2  2  2]]\n"
     ]
    }
   ],
   "source": [
    "accuracy = accuracy_score(y_test1, y_pred1)\n",
    "precision = precision_score(y_test1, y_pred1, average='weighted')\n",
    "recall = recall_score(y_test1, y_pred1, average='weighted')\n",
    "f1 = f1_score(y_test1, y_pred1, average='weighted')\n",
    "conf_matrix = confusion_matrix(y_test1, y_pred1)\n",
    "\n",
    "# Print the evaluation metrics\n",
    "print(\"Accuracy:\", accuracy)\n",
    "print(\"Precision:\", precision)\n",
    "print(\"Recall:\", recall)\n",
    "print(\"F1 Score:\", f1)\n",
    "print(\"Confusion Matrix:\\n\", conf_matrix)"
   ]
  },
  {
   "cell_type": "markdown",
   "metadata": {},
   "source": [
    "**We had 12 categories the last time, so our accuracy score was 0.29 and the data was not scaled either. Therefore, in order to improve accuracy, we only looked at genres with a value count above 20, so we are now only looking at drama, sci-fi, comedy, action, and crime. Additionally, we are performing standardisation to equalise the distance calculation, so our accuracy score is now improved to 0.318, which is better than before.**"
   ]
  },
  {
   "cell_type": "markdown",
   "metadata": {},
   "source": [
    "Applications of the KNN Algorithm\n",
    "- Data Preprocessing – While dealing with any Machine Learning problem we first perform the EDA part in which if we find that the data - contains missing values then there are multiple imputation methods are available as well. One of such method is KNN Imputer which is - quite effective ad generally used for sophisticated imputation methodologies.\n",
    "- Pattern Recognition – KNN algorithms work very well if you have trained a KNN algorithm using the MNIST dataset and then performed - the evaluation process then you must have come across the fact that the accuracy is too high.\n",
    "- Recommendation Engines – The main task which is performed by a KNN algorithm is to assign a new query point to a pre-existed group - that has been created using a huge corpus of datasets. This is exactly what is required in the recommender systems to assign each - user to a particular group and then provide them recommendations based on that group’s preferences."
   ]
  },
  {
   "cell_type": "markdown",
   "metadata": {},
   "source": [
    "**CONCLUSION**:\n",
    "*Through this experiment, we gained a deeper understanding of how the k-NN algorithm works and its practical application in classifying TV shows based on their attributes. We successfully evaluated the classifier's performance using various evaluation metrics and made accurate predictions about the genres of the TV shows*"
   ]
  },
  {
   "cell_type": "markdown",
   "metadata": {},
   "source": []
  }
 ],
 "metadata": {
  "kernelspec": {
   "display_name": "Python 3",
   "language": "python",
   "name": "python3"
  },
  "language_info": {
   "codemirror_mode": {
    "name": "ipython",
    "version": 3
   },
   "file_extension": ".py",
   "mimetype": "text/x-python",
   "name": "python",
   "nbconvert_exporter": "python",
   "pygments_lexer": "ipython3",
   "version": "3.10.9"
  }
 },
 "nbformat": 4,
 "nbformat_minor": 2
}
